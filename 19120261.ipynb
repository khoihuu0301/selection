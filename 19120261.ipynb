{
  "cells": [
    {
      "attachments": {},
      "cell_type": "markdown",
      "metadata": {
        "id": "ikerwZgrJpHr"
      },
      "source": [
        "# Chuyên đề chọn lọc trong hệ thống thông tin"
      ]
    },
    {
      "attachments": {},
      "cell_type": "markdown",
      "metadata": {},
      "source": [
        "MSSV: 19120261\n",
        "Họ và tên: Nguyễn Hữu Khôi"
      ]
    },
    {
      "attachments": {},
      "cell_type": "markdown",
      "metadata": {},
      "source": [
        "# Chuẩn bị dữ liệu"
      ]
    },
    {
      "cell_type": "code",
      "execution_count": 1,
      "metadata": {},
      "outputs": [
        {
          "name": "stdout",
          "output_type": "stream",
          "text": [
            "Requirement already satisfied: pandas in c:\\python311\\lib\\site-packages (2.0.0)\n",
            "Requirement already satisfied: python-dateutil>=2.8.2 in c:\\users\\k\\appdata\\roaming\\python\\python311\\site-packages (from pandas) (2.8.2)\n",
            "Requirement already satisfied: pytz>=2020.1 in c:\\python311\\lib\\site-packages (from pandas) (2023.3)\n",
            "Requirement already satisfied: tzdata>=2022.1 in c:\\python311\\lib\\site-packages (from pandas) (2023.3)\n",
            "Requirement already satisfied: numpy>=1.21.0 in c:\\python311\\lib\\site-packages (from pandas) (1.24.2)\n",
            "Requirement already satisfied: six>=1.5 in c:\\users\\k\\appdata\\roaming\\python\\python311\\site-packages (from python-dateutil>=2.8.2->pandas) (1.16.0)\n",
            "Note: you may need to restart the kernel to use updated packages.\n"
          ]
        },
        {
          "name": "stderr",
          "output_type": "stream",
          "text": [
            "\n",
            "[notice] A new release of pip available: 22.3 -> 23.1.2\n",
            "[notice] To update, run: python.exe -m pip install --upgrade pip\n"
          ]
        },
        {
          "name": "stdout",
          "output_type": "stream",
          "text": [
            "Requirement already satisfied: scipy in c:\\python311\\lib\\site-packages (1.10.1)\n",
            "Requirement already satisfied: numpy<1.27.0,>=1.19.5 in c:\\python311\\lib\\site-packages (from scipy) (1.24.2)\n",
            "Note: you may need to restart the kernel to use updated packages.\n"
          ]
        },
        {
          "name": "stderr",
          "output_type": "stream",
          "text": [
            "\n",
            "[notice] A new release of pip available: 22.3 -> 23.1.2\n",
            "[notice] To update, run: python.exe -m pip install --upgrade pip\n"
          ]
        },
        {
          "name": "stdout",
          "output_type": "stream",
          "text": [
            "Requirement already satisfied: seaborn in c:\\python311\\lib\\site-packages (0.12.2)\n",
            "Requirement already satisfied: numpy!=1.24.0,>=1.17 in c:\\python311\\lib\\site-packages (from seaborn) (1.24.2)\n",
            "Requirement already satisfied: pandas>=0.25 in c:\\python311\\lib\\site-packages (from seaborn) (2.0.0)\n",
            "Requirement already satisfied: matplotlib!=3.6.1,>=3.1 in c:\\python311\\lib\\site-packages (from seaborn) (3.7.1)\n",
            "Requirement already satisfied: contourpy>=1.0.1 in c:\\python311\\lib\\site-packages (from matplotlib!=3.6.1,>=3.1->seaborn) (1.0.7)\n",
            "Requirement already satisfied: cycler>=0.10 in c:\\python311\\lib\\site-packages (from matplotlib!=3.6.1,>=3.1->seaborn) (0.11.0)\n",
            "Requirement already satisfied: fonttools>=4.22.0 in c:\\python311\\lib\\site-packages (from matplotlib!=3.6.1,>=3.1->seaborn) (4.39.3)\n",
            "Requirement already satisfied: kiwisolver>=1.0.1 in c:\\python311\\lib\\site-packages (from matplotlib!=3.6.1,>=3.1->seaborn) (1.4.4)\n",
            "Requirement already satisfied: packaging>=20.0 in c:\\users\\k\\appdata\\roaming\\python\\python311\\site-packages (from matplotlib!=3.6.1,>=3.1->seaborn) (23.1)\n",
            "Requirement already satisfied: pillow>=6.2.0 in c:\\python311\\lib\\site-packages (from matplotlib!=3.6.1,>=3.1->seaborn) (9.5.0)\n",
            "Requirement already satisfied: pyparsing>=2.3.1 in c:\\python311\\lib\\site-packages (from matplotlib!=3.6.1,>=3.1->seaborn) (3.0.9)\n",
            "Requirement already satisfied: python-dateutil>=2.7 in c:\\users\\k\\appdata\\roaming\\python\\python311\\site-packages (from matplotlib!=3.6.1,>=3.1->seaborn) (2.8.2)\n",
            "Requirement already satisfied: pytz>=2020.1 in c:\\python311\\lib\\site-packages (from pandas>=0.25->seaborn) (2023.3)\n",
            "Requirement already satisfied: tzdata>=2022.1 in c:\\python311\\lib\\site-packages (from pandas>=0.25->seaborn) (2023.3)\n",
            "Requirement already satisfied: six>=1.5 in c:\\users\\k\\appdata\\roaming\\python\\python311\\site-packages (from python-dateutil>=2.7->matplotlib!=3.6.1,>=3.1->seaborn) (1.16.0)\n",
            "Note: you may need to restart the kernel to use updated packages.\n"
          ]
        },
        {
          "name": "stderr",
          "output_type": "stream",
          "text": [
            "\n",
            "[notice] A new release of pip available: 22.3 -> 23.1.2\n",
            "[notice] To update, run: python.exe -m pip install --upgrade pip\n"
          ]
        },
        {
          "name": "stdout",
          "output_type": "stream",
          "text": [
            "Requirement already satisfied: scikit-learn in c:\\python311\\lib\\site-packages (1.2.2)\n",
            "Requirement already satisfied: numpy>=1.17.3 in c:\\python311\\lib\\site-packages (from scikit-learn) (1.24.2)\n",
            "Requirement already satisfied: scipy>=1.3.2 in c:\\python311\\lib\\site-packages (from scikit-learn) (1.10.1)\n",
            "Requirement already satisfied: joblib>=1.1.1 in c:\\python311\\lib\\site-packages (from scikit-learn) (1.2.0)\n",
            "Requirement already satisfied: threadpoolctl>=2.0.0 in c:\\python311\\lib\\site-packages (from scikit-learn) (3.1.0)\n",
            "Note: you may need to restart the kernel to use updated packages.\n"
          ]
        },
        {
          "name": "stderr",
          "output_type": "stream",
          "text": [
            "\n",
            "[notice] A new release of pip available: 22.3 -> 23.1.2\n",
            "[notice] To update, run: python.exe -m pip install --upgrade pip\n"
          ]
        }
      ],
      "source": [
        "%pip install pandas;\n",
        "%pip install scipy;\n",
        "%pip install seaborn;\n",
        "%pip install scikit-learn;"
      ]
    },
    {
      "cell_type": "code",
      "execution_count": 125,
      "metadata": {
        "id": "JBESx3d0HdRL"
      },
      "outputs": [],
      "source": [
        "# Data processing\n",
        "import pandas as pd\n",
        "import numpy as np\n",
        "import scipy.stats\n",
        "\n",
        "# Visualization\n",
        "import seaborn as sns\n",
        "\n",
        "# Similarity\n",
        "from sklearn.metrics.pairwise import cosine_similarity"
      ]
    },
    {
      "attachments": {},
      "cell_type": "markdown",
      "metadata": {
        "id": "01GfDb-RIphe"
      },
      "source": [
        "Đọc dataset rating của người dùng từ file"
      ]
    },
    {
      "cell_type": "code",
      "execution_count": 202,
      "metadata": {
        "colab": {
          "base_uri": "https://localhost:8080/",
          "height": 205
        },
        "id": "H62RNzlYH0Ok",
        "outputId": "d677e386-c9ef-404e-a049-a09fa4e72e42"
      },
      "outputs": [
        {
          "name": "stdout",
          "output_type": "stream",
          "text": [
            "   User-ID        ISBN  Book-Rating\n",
            "0   276725  034545104X            0\n",
            "1   276726  0155061224            5\n",
            "2   276727  0446520802            0\n",
            "3   276729  052165615X            3\n",
            "4   276729  0521795028            6\n",
            "<class 'pandas.core.frame.DataFrame'>\n",
            "RangeIndex: 1149780 entries, 0 to 1149779\n",
            "Data columns (total 3 columns):\n",
            " #   Column       Non-Null Count    Dtype \n",
            "---  ------       --------------    ----- \n",
            " 0   User-ID      1149780 non-null  int64 \n",
            " 1   ISBN         1149780 non-null  object\n",
            " 2   Book-Rating  1149780 non-null  int64 \n",
            "dtypes: int64(2), object(1)\n",
            "memory usage: 26.3+ MB\n",
            "None\n"
          ]
        }
      ],
      "source": [
        "# Read in data\n",
        "ratings=pd.read_csv('BX-CSV-Dump\\BX-Book-ratings.csv', encoding = 'unicode_escape', sep = ';')\n",
        "\n",
        "# Take a look at the data\n",
        "print(ratings.head())\n",
        "print(ratings.info())"
      ]
    },
    {
      "attachments": {},
      "cell_type": "markdown",
      "metadata": {
        "id": "ypyk6KHMI8XJ"
      },
      "source": [
        "Data có 3 cột: User-ID, ISBN, Book-Rating\n",
        "\n",
        "Data có 1149780 dòng, không có missing data"
      ]
    },
    {
      "cell_type": "code",
      "execution_count": 203,
      "metadata": {
        "colab": {
          "base_uri": "https://localhost:8080/"
        },
        "id": "mU6QYpBNIm3e",
        "outputId": "41a87d5b-87bf-4237-f85e-959d3bf5f116"
      },
      "outputs": [
        {
          "name": "stdout",
          "output_type": "stream",
          "text": [
            "The ratings dataset has 105283 unique users\n",
            "The ratings dataset has 340556 unique books\n",
            "The ratings dataset has 11 unique ratings\n",
            "The unique ratings are [0, 1, 2, 3, 4, 5, 6, 7, 8, 9, 10]\n"
          ]
        }
      ],
      "source": [
        "# Number of users\n",
        "print('The ratings dataset has', ratings['User-ID'].nunique(), 'unique users')\n",
        "\n",
        "# Number of movies\n",
        "print('The ratings dataset has', ratings['ISBN'].nunique(), 'unique books')\n",
        "\n",
        "# Number of ratings\n",
        "print('The ratings dataset has', ratings['Book-Rating'].nunique(), 'unique ratings')\n",
        "\n",
        "# List of unique ratings\n",
        "print('The unique ratings are', sorted(ratings['Book-Rating'].unique()))"
      ]
    },
    {
      "attachments": {},
      "cell_type": "markdown",
      "metadata": {
        "id": "0e14-64CL-Wy"
      },
      "source": [
        "Đọc dataset thông tin tựa sách từ file\n",
        "\n",
        "Dataset thông tin sách có các cột: ISBN, Book-Title, Book-Author, Year-Of-Publication, Publisher, Image-URL-S, Image-URL-M, Image-URL-L\n",
        "\n",
        "Nhận thấy trong dataset có sẵn xuất hiện một số dòng bị lỗi khi đọc từ csv, thêm parameter on_bad_line='skip' để bỏ qua các dòng lỗi"
      ]
    },
    {
      "cell_type": "code",
      "execution_count": 197,
      "metadata": {
        "colab": {
          "base_uri": "https://localhost:8080/",
          "height": 205
        },
        "id": "5MioG60zKXa_",
        "outputId": "2543e264-12eb-4ee6-9f7f-c8c20d98e9c6"
      },
      "outputs": [
        {
          "name": "stdout",
          "output_type": "stream",
          "text": [
            "<class 'pandas.core.frame.DataFrame'>\n",
            "RangeIndex: 271360 entries, 0 to 271359\n",
            "Data columns (total 8 columns):\n",
            " #   Column               Non-Null Count   Dtype \n",
            "---  ------               --------------   ----- \n",
            " 0   ISBN                 271360 non-null  object\n",
            " 1   Book-Title           271360 non-null  object\n",
            " 2   Book-Author          271358 non-null  object\n",
            " 3   Year-Of-Publication  271360 non-null  object\n",
            " 4   Publisher            271358 non-null  object\n",
            " 5   Image-URL-S          271360 non-null  object\n",
            " 6   Image-URL-M          271360 non-null  object\n",
            " 7   Image-URL-L          271356 non-null  object\n",
            "dtypes: object(8)\n",
            "memory usage: 16.6+ MB\n"
          ]
        },
        {
          "name": "stderr",
          "output_type": "stream",
          "text": [
            "C:\\Users\\K\\AppData\\Local\\Temp\\ipykernel_16516\\3860713377.py:3: DtypeWarning: Columns (3) have mixed types. Specify dtype option on import or set low_memory=False.\n",
            "  books = pd.read_csv('BX-CSV-Dump/BX-Books.csv', encoding = 'unicode_escape', delimiter=';', quotechar='\"',on_bad_lines='skip')\n"
          ]
        }
      ],
      "source": [
        "\n",
        "import csv\n",
        "colname = [\"ISBN\",\"Book-Title\",\"Book-Author\",\"Year-Of-Publication\",\"Publisher\",\"Image-URL-S\",\"Image-URL-M\",\"Image-URL-L\"]\n",
        "books = pd.read_csv('BX-CSV-Dump/BX-Books.csv', encoding = 'unicode_escape', delimiter=';', quotechar='\"',on_bad_lines='skip')\n",
        "#books = pd.read_csv('BX-CSV-Dump/test.csv', encoding = 'unicode_escape', sep = '\";\"')\n",
        "\n",
        "books.info()"
      ]
    },
    {
      "attachments": {},
      "cell_type": "markdown",
      "metadata": {},
      "source": [
        "Kiểm tra lại số dòng lỗi có đáng kể hay không, kết quả ra được số dòng lỗi chỉ chiếm 0.007%, có thể bỏ qua các dòng này."
      ]
    },
    {
      "cell_type": "code",
      "execution_count": 198,
      "metadata": {},
      "outputs": [
        {
          "name": "stdout",
          "output_type": "stream",
          "text": [
            "0.007369739848183359\n"
          ]
        }
      ],
      "source": [
        "with open(\"BX-CSV-Dump/BX-Books.csv\") as f:\n",
        "    len_csv = sum(1 for line in f)\n",
        "\n",
        "bad_rows_rate = (len_csv-len(books))/len_csv*100\n",
        "print(bad_rows_rate)"
      ]
    },
    {
      "attachments": {},
      "cell_type": "markdown",
      "metadata": {
        "id": "ojUlI_KXPx3T"
      },
      "source": [
        "Join 2 dataset với nhau"
      ]
    },
    {
      "cell_type": "code",
      "execution_count": 204,
      "metadata": {
        "colab": {
          "base_uri": "https://localhost:8080/",
          "height": 205
        },
        "id": "SFKBfIl5P8PG",
        "outputId": "43fda4ef-3cc1-4b4b-c4e1-ef452483f19e"
      },
      "outputs": [
        {
          "data": {
            "text/html": [
              "<div>\n",
              "<style scoped>\n",
              "    .dataframe tbody tr th:only-of-type {\n",
              "        vertical-align: middle;\n",
              "    }\n",
              "\n",
              "    .dataframe tbody tr th {\n",
              "        vertical-align: top;\n",
              "    }\n",
              "\n",
              "    .dataframe thead th {\n",
              "        text-align: right;\n",
              "    }\n",
              "</style>\n",
              "<table border=\"1\" class=\"dataframe\">\n",
              "  <thead>\n",
              "    <tr style=\"text-align: right;\">\n",
              "      <th></th>\n",
              "      <th>User-ID</th>\n",
              "      <th>ISBN</th>\n",
              "      <th>Book-Rating</th>\n",
              "      <th>Book-Title</th>\n",
              "      <th>Book-Author</th>\n",
              "      <th>Year-Of-Publication</th>\n",
              "      <th>Publisher</th>\n",
              "      <th>Image-URL-S</th>\n",
              "      <th>Image-URL-M</th>\n",
              "      <th>Image-URL-L</th>\n",
              "    </tr>\n",
              "  </thead>\n",
              "  <tbody>\n",
              "    <tr>\n",
              "      <th>0</th>\n",
              "      <td>276725</td>\n",
              "      <td>034545104X</td>\n",
              "      <td>0</td>\n",
              "      <td>Flesh Tones: A Novel</td>\n",
              "      <td>M. J. Rose</td>\n",
              "      <td>2002</td>\n",
              "      <td>Ballantine Books</td>\n",
              "      <td>http://images.amazon.com/images/P/034545104X.0...</td>\n",
              "      <td>http://images.amazon.com/images/P/034545104X.0...</td>\n",
              "      <td>http://images.amazon.com/images/P/034545104X.0...</td>\n",
              "    </tr>\n",
              "    <tr>\n",
              "      <th>1</th>\n",
              "      <td>2313</td>\n",
              "      <td>034545104X</td>\n",
              "      <td>5</td>\n",
              "      <td>Flesh Tones: A Novel</td>\n",
              "      <td>M. J. Rose</td>\n",
              "      <td>2002</td>\n",
              "      <td>Ballantine Books</td>\n",
              "      <td>http://images.amazon.com/images/P/034545104X.0...</td>\n",
              "      <td>http://images.amazon.com/images/P/034545104X.0...</td>\n",
              "      <td>http://images.amazon.com/images/P/034545104X.0...</td>\n",
              "    </tr>\n",
              "    <tr>\n",
              "      <th>2</th>\n",
              "      <td>6543</td>\n",
              "      <td>034545104X</td>\n",
              "      <td>0</td>\n",
              "      <td>Flesh Tones: A Novel</td>\n",
              "      <td>M. J. Rose</td>\n",
              "      <td>2002</td>\n",
              "      <td>Ballantine Books</td>\n",
              "      <td>http://images.amazon.com/images/P/034545104X.0...</td>\n",
              "      <td>http://images.amazon.com/images/P/034545104X.0...</td>\n",
              "      <td>http://images.amazon.com/images/P/034545104X.0...</td>\n",
              "    </tr>\n",
              "    <tr>\n",
              "      <th>3</th>\n",
              "      <td>8680</td>\n",
              "      <td>034545104X</td>\n",
              "      <td>5</td>\n",
              "      <td>Flesh Tones: A Novel</td>\n",
              "      <td>M. J. Rose</td>\n",
              "      <td>2002</td>\n",
              "      <td>Ballantine Books</td>\n",
              "      <td>http://images.amazon.com/images/P/034545104X.0...</td>\n",
              "      <td>http://images.amazon.com/images/P/034545104X.0...</td>\n",
              "      <td>http://images.amazon.com/images/P/034545104X.0...</td>\n",
              "    </tr>\n",
              "    <tr>\n",
              "      <th>4</th>\n",
              "      <td>10314</td>\n",
              "      <td>034545104X</td>\n",
              "      <td>9</td>\n",
              "      <td>Flesh Tones: A Novel</td>\n",
              "      <td>M. J. Rose</td>\n",
              "      <td>2002</td>\n",
              "      <td>Ballantine Books</td>\n",
              "      <td>http://images.amazon.com/images/P/034545104X.0...</td>\n",
              "      <td>http://images.amazon.com/images/P/034545104X.0...</td>\n",
              "      <td>http://images.amazon.com/images/P/034545104X.0...</td>\n",
              "    </tr>\n",
              "  </tbody>\n",
              "</table>\n",
              "</div>"
            ],
            "text/plain": [
              "   User-ID        ISBN  Book-Rating            Book-Title Book-Author   \n",
              "0   276725  034545104X            0  Flesh Tones: A Novel  M. J. Rose  \\\n",
              "1     2313  034545104X            5  Flesh Tones: A Novel  M. J. Rose   \n",
              "2     6543  034545104X            0  Flesh Tones: A Novel  M. J. Rose   \n",
              "3     8680  034545104X            5  Flesh Tones: A Novel  M. J. Rose   \n",
              "4    10314  034545104X            9  Flesh Tones: A Novel  M. J. Rose   \n",
              "\n",
              "  Year-Of-Publication         Publisher   \n",
              "0                2002  Ballantine Books  \\\n",
              "1                2002  Ballantine Books   \n",
              "2                2002  Ballantine Books   \n",
              "3                2002  Ballantine Books   \n",
              "4                2002  Ballantine Books   \n",
              "\n",
              "                                         Image-URL-S   \n",
              "0  http://images.amazon.com/images/P/034545104X.0...  \\\n",
              "1  http://images.amazon.com/images/P/034545104X.0...   \n",
              "2  http://images.amazon.com/images/P/034545104X.0...   \n",
              "3  http://images.amazon.com/images/P/034545104X.0...   \n",
              "4  http://images.amazon.com/images/P/034545104X.0...   \n",
              "\n",
              "                                         Image-URL-M   \n",
              "0  http://images.amazon.com/images/P/034545104X.0...  \\\n",
              "1  http://images.amazon.com/images/P/034545104X.0...   \n",
              "2  http://images.amazon.com/images/P/034545104X.0...   \n",
              "3  http://images.amazon.com/images/P/034545104X.0...   \n",
              "4  http://images.amazon.com/images/P/034545104X.0...   \n",
              "\n",
              "                                         Image-URL-L  \n",
              "0  http://images.amazon.com/images/P/034545104X.0...  \n",
              "1  http://images.amazon.com/images/P/034545104X.0...  \n",
              "2  http://images.amazon.com/images/P/034545104X.0...  \n",
              "3  http://images.amazon.com/images/P/034545104X.0...  \n",
              "4  http://images.amazon.com/images/P/034545104X.0...  "
            ]
          },
          "execution_count": 204,
          "metadata": {},
          "output_type": "execute_result"
        }
      ],
      "source": [
        "# Merge ratings and movies datasets\n",
        "df = pd.merge(ratings, books, on='ISBN', how='inner')\n",
        "\n",
        "# Take a look at the data\n",
        "df.head()"
      ]
    },
    {
      "attachments": {},
      "cell_type": "markdown",
      "metadata": {},
      "source": [
        "Dataset BX-Users.csv"
      ]
    },
    {
      "cell_type": "code",
      "execution_count": 213,
      "metadata": {},
      "outputs": [],
      "source": [
        "users_df = pd.read_csv('BX-CSV-Dump/BX-Users.csv', encoding = 'unicode_escape', delimiter=';', quotechar='\"')"
      ]
    },
    {
      "cell_type": "code",
      "execution_count": 214,
      "metadata": {},
      "outputs": [
        {
          "name": "stdout",
          "output_type": "stream",
          "text": [
            "<class 'pandas.core.frame.DataFrame'>\n",
            "RangeIndex: 278858 entries, 0 to 278857\n",
            "Data columns (total 3 columns):\n",
            " #   Column    Non-Null Count   Dtype  \n",
            "---  ------    --------------   -----  \n",
            " 0   User-ID   278858 non-null  int64  \n",
            " 1   Location  278858 non-null  object \n",
            " 2   Age       168096 non-null  float64\n",
            "dtypes: float64(1), int64(1), object(1)\n",
            "memory usage: 6.4+ MB\n"
          ]
        }
      ],
      "source": [
        "users_df.info()"
      ]
    },
    {
      "cell_type": "code",
      "execution_count": 210,
      "metadata": {},
      "outputs": [],
      "source": [
        "# Aggregate by book\n",
        "agg_ratings = df.groupby('Book-Title').agg(mean_rating = ('Book-Rating', 'mean'),\n",
        "                                                number_of_ratings = ('Book-Rating', 'count')).reset_index()                          "
      ]
    },
    {
      "attachments": {},
      "cell_type": "markdown",
      "metadata": {},
      "source": [
        "Dùng biểu đồ jointplot để kiểm tra độ tương quan giữa rating trung bình và số lượng rating của mỗi tựa sách\n",
        "\n",
        "Biểu đồ cho thấy hầu hết các tựa sách được đánh giá vào khoảng 2 đến 4, trung bình số lần được đánh giá nằm vào khoảng dưới 800"
      ]
    },
    {
      "cell_type": "code",
      "execution_count": 211,
      "metadata": {},
      "outputs": [
        {
          "data": {
            "text/plain": [
              "<seaborn.axisgrid.JointGrid at 0x283fec87810>"
            ]
          },
          "execution_count": 211,
          "metadata": {},
          "output_type": "execute_result"
        },
        {
          "data": {
            "image/png": "[encoded data removed]",
            "text/plain": [
              "<Figure size 600x600 with 3 Axes>"
            ]
          },
          "metadata": {},
          "output_type": "display_data"
        }
      ],
      "source": [
        "# Visulization\n",
        "sns.jointplot(x='mean_rating', y='number_of_ratings', data=agg_ratings)"
      ]
    },
    {
      "attachments": {},
      "cell_type": "markdown",
      "metadata": {},
      "source": [
        "Biểu đồ đánh giá sự tương quan giữa số lượng sách đã đánh giá và đánh giá trung bình của mỗi người dùng"
      ]
    },
    {
      "cell_type": "code",
      "execution_count": 216,
      "metadata": {},
      "outputs": [
        {
          "data": {
            "image/png": "[encoded data removed]",
            "text/plain": [
              "<Figure size 800x800 with 3 Axes>"
            ]
          },
          "metadata": {},
          "output_type": "display_data"
        }
      ],
      "source": [
        "import seaborn as sns\n",
        "\n",
        "# Calculate the number of books rated by each user\n",
        "num_books_rated = train_df.groupby('User-ID')['Book-Rating'].count()\n",
        "\n",
        "# Calculate the average rating for each user\n",
        "average_rating = train_df.groupby('User-ID')['Book-Rating'].mean()\n",
        "\n",
        "# Create a jointplot\n",
        "sns.jointplot(x=num_books_rated, y=average_rating, kind='hex', height=8, color='g')\n",
        "\n",
        "# Set the axis labels and title\n",
        "plt.xlabel('Number of Books Rated')\n",
        "plt.ylabel('Average Rating')\n",
        "plt.title('Relationship between Number of Books Rated and Average Rating')\n",
        "\n",
        "# Display the plot\n",
        "plt.show()\n"
      ]
    },
    {
      "attachments": {},
      "cell_type": "markdown",
      "metadata": {},
      "source": [
        "Tìm kiếm outlier trong tập dữ liệu"
      ]
    },
    {
      "cell_type": "code",
      "execution_count": 217,
      "metadata": {},
      "outputs": [
        {
          "data": {
            "image/png": "[encoded data removed]",
            "text/plain": [
              "<Figure size 640x480 with 1 Axes>"
            ]
          },
          "metadata": {},
          "output_type": "display_data"
        }
      ],
      "source": [
        "import seaborn as sns\n",
        "\n",
        "# Define the column containing the data\n",
        "column_data = df['Book-Rating']\n",
        "\n",
        "# Create a box plot\n",
        "sns.boxplot(data=column_data)\n",
        "\n",
        "# Set plot title and labels\n",
        "plt.title(\"Box Plot of Book Ratings\")\n",
        "plt.xlabel(\"Book Ratings\")\n",
        "\n",
        "# Show the plot\n",
        "plt.show()\n"
      ]
    },
    {
      "attachments": {},
      "cell_type": "markdown",
      "metadata": {
        "id": "PwU9xz1Q3sQl"
      },
      "source": [
        "# Tính similarity của các user bằng Pearson"
      ]
    },
    {
      "attachments": {},
      "cell_type": "markdown",
      "metadata": {
        "id": "pVfNEoBGGBkT"
      },
      "source": [
        "Tạo ma trận đánh giá, với index là User-ID, các cột là các tựa sách. Nếu sách chưa được đánh giá bởi 1 user, vị trí đó sẽ có giá trị NaN"
      ]
    },
    {
      "cell_type": "code",
      "execution_count": null,
      "metadata": {
        "colab": {
          "base_uri": "https://localhost:8080/",
          "height": 459
        },
        "id": "KySPgXj6wRmh",
        "outputId": "6437b83c-a66d-4b77-ed09-b95650e84619"
      },
      "outputs": [],
      "source": [
        "# Create user-item matrix\n",
        "user_matrix = df_GT100.pivot_table(index='User-ID', columns='Book-Title', values='Book-Rating')\n",
        "user_matrix.info()"
      ]
    },
    {
      "attachments": {},
      "cell_type": "markdown",
      "metadata": {
        "id": "DXMTp-zGHfTf"
      },
      "source": [
        "Với mỗi người dùng có một cách đánh giá khác nhau, ta phải triệt tiêu bias bằng cách trừ đi số điểm trung bình mỗi user đánh giá cho các tựa sách"
      ]
    },
    {
      "cell_type": "code",
      "execution_count": null,
      "metadata": {
        "colab": {
          "base_uri": "https://localhost:8080/",
          "height": 459
        },
        "id": "4Hr6lpyhxdAc",
        "outputId": "f646dcae-e39f-4d7c-c528-b396adffdfe3"
      },
      "outputs": [],
      "source": [
        "# Normalize user-item matrix\n",
        "user_matrix_norm = user_matrix.subtract(user_matrix.mean(axis=1), axis = 'rows')\n",
        "user_matrix_norm.head()"
      ]
    },
    {
      "attachments": {},
      "cell_type": "markdown",
      "metadata": {
        "id": "jcGz5l_DJhoG"
      },
      "source": [
        "Tính similarity bằng pearson"
      ]
    },
    {
      "cell_type": "code",
      "execution_count": null,
      "metadata": {
        "colab": {
          "base_uri": "https://localhost:8080/",
          "height": 286
        },
        "id": "1Zo4UEFWJVyt",
        "outputId": "da28f07c-75db-4a40-d3c6-97b38699a757"
      },
      "outputs": [],
      "source": [
        "# User similarity matrix using Pearson correlation\n",
        "user_similarity = user_matrix_norm.T.corr()\n",
        "user_similarity.head()"
      ]
    },
    {
      "attachments": {},
      "cell_type": "markdown",
      "metadata": {},
      "source": [
        "# Tính similarity của user bằng jaccard"
      ]
    },
    {
      "attachments": {},
      "cell_type": "markdown",
      "metadata": {},
      "source": [
        "Vì hàm jaccard_score không thể vector hoá, chúng ta phải sử dụng vòng lặp để thực hiện tính độ tương đồng giữa các user. Thay vào đó, sử dụng pairwise_distance có thể tính được độ khác biệt giữa các user và vector hoá nó, rồi lấy hiệu số của 1 và kết quả, ta có được độ tương đồng jaccard."
      ]
    },
    {
      "cell_type": "code",
      "execution_count": null,
      "metadata": {},
      "outputs": [],
      "source": [
        "from sklearn.metrics.pairwise import pairwise_distances\n",
        "\n",
        "jac_sim = 1 - pairwise_distances(user_matrix_norm.T.to_numpy(), metric='jaccard')\n",
        "user_jac_sim_df = pd.DataFrame(\n",
        "    1 - pairwise_distances(user_matrix_norm.T.to_numpy(), metric='jaccard'), \n",
        "    index=user_matrix_norm.columns, columns=user_matrix_norm.columns,\n",
        ")"
      ]
    },
    {
      "cell_type": "code",
      "execution_count": null,
      "metadata": {},
      "outputs": [],
      "source": [
        "user_jac_sim_df.head()"
      ]
    },
    {
      "attachments": {},
      "cell_type": "markdown",
      "metadata": {},
      "source": [
        "# Tính similarity của các item bằng Pearson"
      ]
    },
    {
      "attachments": {},
      "cell_type": "markdown",
      "metadata": {},
      "source": [
        "Tạo ma trận đánh giá, với index là Tựa sách, các cột là các User-ID. Nếu sách chưa được đánh giá bởi 1 user, vị trí đó sẽ có giá trị NaN"
      ]
    },
    {
      "cell_type": "code",
      "execution_count": null,
      "metadata": {},
      "outputs": [],
      "source": [
        "# Create user-item matrix\n",
        "item_matrix = df_GT100.pivot_table(index='Book-Title', columns='User-ID', values='Book-Rating')\n",
        "item_matrix.info()"
      ]
    },
    {
      "attachments": {},
      "cell_type": "markdown",
      "metadata": {},
      "source": [
        "Triệt tiêu bias bằng cách trừ đi giá trị trung bình trên đánh giá của mỗi tựa sách"
      ]
    },
    {
      "cell_type": "code",
      "execution_count": null,
      "metadata": {},
      "outputs": [],
      "source": [
        "# Normalize user-item matrix\n",
        "item_matrix_norm = item_matrix.subtract(item_matrix.mean(axis=1), axis = 'rows')\n",
        "item_matrix_norm.head()"
      ]
    },
    {
      "cell_type": "markdown",
      "metadata": {},
      "source": [
        "Tính similarity bằng pearson"
      ]
    },
    {
      "cell_type": "code",
      "execution_count": null,
      "metadata": {},
      "outputs": [],
      "source": [
        "# User similarity matrix using Pearson correlation\n",
        "item_similarity = item_matrix_norm.T.corr()\n",
        "item_similarity.head()"
      ]
    },
    {
      "attachments": {},
      "cell_type": "markdown",
      "metadata": {},
      "source": [
        "# Tính độ tương đồng của các item bằng Jaccard"
      ]
    },
    {
      "cell_type": "code",
      "execution_count": null,
      "metadata": {},
      "outputs": [],
      "source": [
        "from sklearn.metrics.pairwise import pairwise_distances\n",
        "\n",
        "jac_sim = 1 - pairwise_distances(item_matrix_norm.T.to_numpy(), metric='jaccard')\n",
        "item_jac_sim_df = pd.DataFrame(\n",
        "    1 - pairwise_distances(item_matrix_norm.T.to_numpy(), metric='jaccard'), \n",
        "    index=item_matrix_norm.columns, columns=item_matrix_norm.columns,\n",
        ")"
      ]
    },
    {
      "cell_type": "code",
      "execution_count": null,
      "metadata": {},
      "outputs": [],
      "source": [
        "item_jac_sim_df.head()"
      ]
    },
    {
      "attachments": {},
      "cell_type": "markdown",
      "metadata": {},
      "source": [
        "# Thay vì sử dụng các hàm có sẵn, chúng ta tự xây dựng hàm theo công thức đã cho"
      ]
    },
    {
      "attachments": {},
      "cell_type": "markdown",
      "metadata": {},
      "source": [
        "Tính độ tương đồng giữa 2 user bằng pearson"
      ]
    },
    {
      "cell_type": "code",
      "execution_count": 3,
      "metadata": {},
      "outputs": [],
      "source": [
        "def calculate_pcc_similarity(user_ratings_x, user_ratings_y):\n",
        "    #chọn ra các items đều được đánh giá bởi 2 user\n",
        "    common_items = set(user_ratings_x['ISBN']).intersection(set(user_ratings_y['ISBN']))\n",
        "    #nếu danh sách item chung không có tựa sách nào, trả về kết quả 0\n",
        "    if len(common_items) == 0:\n",
        "        return 0.0\n",
        "    # số điểm đánh giá của 2 user với mỗi item trong danh sách item chung\n",
        "    ratings_x = user_ratings_x[user_ratings_x['ISBN'].isin(common_items)]['Book-Rating'].to_numpy()\n",
        "    ratings_y = user_ratings_y[user_ratings_y['ISBN'].isin(common_items)]['Book-Rating'].to_numpy()\n",
        "    book_ratings_x = ratings_x[np.char.isdigit(ratings_x.astype(str))]\n",
        "    book_ratings_y = ratings_y[np.char.isdigit(ratings_y.astype(str))] \n",
        "    book_ratings_x = book_ratings_x.astype(float)\n",
        "    book_ratings_y = book_ratings_y.astype(float)\n",
        "    #điểm đánh giá trung bình của mỗi user để reduce bias\n",
        "    avg_rating_x = np.mean(book_ratings_x)\n",
        "    avg_rating_y = np.mean(book_ratings_y)\n",
        "    #tử số của công thức pearson\n",
        "    numerator = np.sum((book_ratings_x - avg_rating_x) * (book_ratings_y - avg_rating_y))\n",
        "    #mẫu số của công thức pearson\n",
        "    denominator = np.sqrt(np.sum((book_ratings_x - avg_rating_x) ** 2) * np.sum((book_ratings_y - avg_rating_y) ** 2))\n",
        "\n",
        "    if denominator == 0:\n",
        "        return 0.0\n",
        "\n",
        "    pcc_similarity = numerator / denominator\n",
        "    return pcc_similarity\n"
      ]
    },
    {
      "attachments": {},
      "cell_type": "markdown",
      "metadata": {},
      "source": [
        "Xây dựng hàm tư vấn"
      ]
    },
    {
      "cell_type": "code",
      "execution_count": 218,
      "metadata": {},
      "outputs": [],
      "source": [
        "def generate_user_based_recommendations(user_id, data, similarity_matrix, k, top_n):\n",
        "   # Đánh giá của người dùng\n",
        "    user_ratings = data[data['User-ID'] == int(user_id)]\n",
        "\n",
        "# Lấy độ đo tương đồng của các người dùng khác đối với người dùng cần tư vấn\n",
        "    similarity_scores = similarity_matrix[user_id]\n",
        "\n",
        "# Lưu độ đo thành dataframe\n",
        "    sim_df = similarity_scores.reset_index()\n",
        "    sim_df.columns = ['other_user_id', 'similarity_score']\n",
        "\n",
        "# Sắp xếp giảm dần theo độ đo\n",
        "    sorted_sim_df = sim_df.sort_values(by='similarity_score', ascending=False)\n",
        "\n",
        " # chọn ra k người dùng có độ tương đồng cao nhất\n",
        "    top_sim_df = sorted_sim_df.head(k)\n",
        "\n",
        "  # Tính dự đoán đánh giá\n",
        "    predicted_ratings = {}\n",
        "    for index, row in top_sim_df.iterrows():\n",
        "        other_user_id = row['other_user_id']\n",
        "        similarity = row['similarity_score']\n",
        "\n",
        "        # Với mỗi người dùng tham gia, lọc ra các đánh giá của người dùng đó\n",
        "        other_user_ratings = data[data['User-ID'] == other_user_id]\n",
        "\n",
        "        for _, book_row in other_user_ratings.iterrows():\n",
        "            item_id = book_row['ISBN']\n",
        "            rating = book_row['Book-Rating']\n",
        "\n",
        "            # Chỉ quan tâm đến những tựa sách chưa được đánh giá bởi người dùng cần tư vấn\n",
        "            if item_id not in user_ratings['ISBN'].values:\n",
        "                if item_id not in predicted_ratings:\n",
        "                    predicted_ratings[item_id] = {\n",
        "                        'numerator': 0, 'denominator': 0}\n",
        "\n",
        "                # Tính tử số và mẫu số của công thức\n",
        "                predicted_ratings[item_id]['numerator'] += similarity * \\\n",
        "                    (rating - other_user_ratings['Book-Rating'].mean())\n",
        "                predicted_ratings[item_id]['denominator'] += similarity               \n",
        "\n",
        "    # Tính dự đoán đánh giá\n",
        "    predicted_ratings_values = {}\n",
        "    for item_id, values in predicted_ratings.items():\n",
        "        \n",
        "        predicted_ratings_values[item_id] = user_ratings['Book-Rating'].mean(\n",
        "        ) + values['numerator'] / values['denominator']\n",
        "\n",
        "    # Sắp xếp dự đoán theo thứ tự giảm dần\n",
        "    sorted_predicted_ratings = sorted(\n",
        "        predicted_ratings_values.items(), key=lambda x: x[1], reverse=True)\n",
        "\n",
        "    # chọn ra top_n các tựa sách được dự đoán đánh giá cao nhất\n",
        "    top_predicted_ratings = sorted_predicted_ratings[:top_n]\n",
        "\n",
        "    # Tạo danh sách tư vấn\n",
        "    recommendations = []\n",
        "    for item_id, predicted_rating in top_predicted_ratings:\n",
        "        recommendations.append((item_id, predicted_rating))\n",
        "    return recommendations, predicted_ratings_values\n"
      ]
    },
    {
      "attachments": {},
      "cell_type": "markdown",
      "metadata": {},
      "source": [
        "Vì thuật toán user-based không thuận tiện cho người dùng mới cũng như các item mới, để thuận tiện hơn cho quá trình tìm hiểu cũng như giảm tải cho hệ thống, em quyết định thu nhỏ dữ liệu và chọn ra top 100 người dùng đã đánh giá nhiều tựa sách nhất. "
      ]
    },
    {
      "cell_type": "code",
      "execution_count": 12,
      "metadata": {},
      "outputs": [
        {
          "name": "stdout",
          "output_type": "stream",
          "text": [
            "Top 100 User-IDs with the most book ratings data saved to 'top_ratings.csv'.\n"
          ]
        }
      ],
      "source": [
        "data = pd.read_csv('top_ratings.csv')\n",
        "top_user_ids = data['User-ID'].value_counts().nlargest(100).index\n",
        "\n",
        "# Filter the data for the top User-IDs\n",
        "top_user_ratings = data[data['User-ID'].isin(top_user_ids)]\n",
        "\n",
        "# Get the top 100 ISBNs with the most book ratings\n",
        "top_isbns = top_user_ratings['ISBN'].value_counts().nlargest(100).index\n",
        "\n",
        "# Filter the data for the top ISBNs\n",
        "top_isbn_ratings = top_user_ratings[top_user_ratings['ISBN'].isin(top_isbns)]\n",
        "\n",
        "# Save the filtered data to a new DataFrame\n",
        "top_ratings = top_isbn_ratings[['User-ID', 'ISBN', 'Book-Rating']]\n",
        "\n",
        "# Save the new DataFrame to a CSV file\n",
        "top_ratings.to_csv('top_ratings.csv', index=False)\n",
        "\n",
        "print(\"Top 100 User-IDs with the most book ratings data saved to 'top_ratings.csv'.\")\n"
      ]
    },
    {
      "attachments": {},
      "cell_type": "markdown",
      "metadata": {},
      "source": [
        "Tính độ tương đồng giữa các người dùng và lưu vào file similarity_matrix.csv"
      ]
    },
    {
      "cell_type": "code",
      "execution_count": null,
      "metadata": {},
      "outputs": [],
      "source": [
        "import pandas as pd\n",
        "import numpy as np\n",
        "\n",
        "# Tính độ tương đồng giữa mỗi cặp người dùng\n",
        "user_ids = data['User-ID'].unique()\n",
        "num_users = len(user_ids)\n",
        "similarity_matrix = np.zeros((num_users, num_users))\n",
        "\n",
        "for i in range(num_users):\n",
        "    user_ratings_x = data[data['User-ID'] == user_ids[i]]\n",
        "    for j in range(i + 1, num_users):\n",
        "        user_ratings_y = data[data['User-ID'] == user_ids[j]]\n",
        "        similarity = calculate_pcc_similarity(user_ratings_x, user_ratings_y)\n",
        "        similarity_matrix[i, j] = similarity\n",
        "        similarity_matrix[j, i] = similarity\n",
        "        \n",
        "        # Track progress\n",
        "        progress = (i * (num_users - 1) + j - i - 1) / ((num_users - 1) * num_users / 2) * 100\n",
        "        print(f\"Progress: {progress:.2f}%\")\n",
        "\n",
        "# Save the similarity matrix to a file\n",
        "np.savetxt('similarity_matrix.csv', similarity_matrix, delimiter=',')\n",
        "\n",
        "print(\"Similarity matrix calculation completed and saved to 'similarity_matrix.csv'.\")\n"
      ]
    },
    {
      "cell_type": "code",
      "execution_count": 147,
      "metadata": {},
      "outputs": [
        {
          "name": "stdout",
          "output_type": "stream",
          "text": [
            "Recommendations for User 6251:\n",
            "Item ID: 0316769487, Predicted Rating: 10.744949494949495\n",
            "Item ID: 0345443284, Predicted Rating: 8.629870129870131\n",
            "Item ID: 014028009X, Predicted Rating: 7.681813091078126\n",
            "Item ID: 0385722206, Predicted Rating: 7.62987012987013\n",
            "Item ID: 0440211727, Predicted Rating: 5.673670958826555\n",
            "Item ID: 0446605239, Predicted Rating: 5.525786781540829\n",
            "Item ID: 0316096199, Predicted Rating: 5.070881718825678\n",
            "Item ID: 0446610038, Predicted Rating: 5.070881718825678\n",
            "Item ID: 0316776963, Predicted Rating: 4.646843727925242\n",
            "Item ID: 0345339681, Predicted Rating: 4.592604384893802\n"
          ]
        }
      ],
      "source": [
        "similarity_matrix = pd.read_csv('similarity_matrix_2.csv', index_col=0)\n",
        "data = pd.read_csv('top_ratings.csv')\n",
        "user_id=\"6251\"\n",
        "k=5\n",
        "top_n = 10\n",
        "recommendations, predicted_ratings = generate_user_based_recommendations(user_id, data, similarity_matrix, k, top_n)\n",
        "\n",
        "# Print the recommendations\n",
        "print(f\"Recommendations for User {user_id}:\")\n",
        "for item_id, predicted_rating in recommendations:\n",
        "    print(f\"Item ID: {item_id}, Predicted Rating: {predicted_rating}\")\n",
        "    \n",
        "\n"
      ]
    },
    {
      "attachments": {},
      "cell_type": "markdown",
      "metadata": {},
      "source": [
        "Kiểm tra dự đoán bằng RMSE"
      ]
    },
    {
      "cell_type": "code",
      "execution_count": 224,
      "metadata": {},
      "outputs": [
        {
          "name": "stderr",
          "output_type": "stream",
          "text": [
            "C:\\Users\\K\\AppData\\Local\\Temp\\ipykernel_16516\\4164382352.py:47: RuntimeWarning: invalid value encountered in scalar divide\n",
            "  ) + values['numerator'] / values['denominator']\n",
            "C:\\Users\\K\\AppData\\Local\\Temp\\ipykernel_16516\\4164382352.py:47: RuntimeWarning: invalid value encountered in scalar divide\n",
            "  ) + values['numerator'] / values['denominator']\n",
            "C:\\Users\\K\\AppData\\Local\\Temp\\ipykernel_16516\\4164382352.py:47: RuntimeWarning: invalid value encountered in scalar divide\n",
            "  ) + values['numerator'] / values['denominator']\n"
          ]
        }
      ],
      "source": [
        "from sklearn.metrics import mean_squared_error\n",
        "import numpy as np\n",
        "\n",
        "shuffled_df = data.sample(frac=1, random_state=12)\n",
        "\n",
        "# Chia dataset thành 2 phần \n",
        "train_df = shuffled_df.sample(frac=0.8, random_state=42)\n",
        "test_df = shuffled_df.drop(train_df.index)\n",
        "k = 5\n",
        "top_n = len(train_df['ISBN'].unique())\n",
        "# Danh sách người dùng trong tập train\n",
        "train_user_ids = train_df['User-ID'].unique()\n",
        "\n",
        "# Danh sách người dùng trong tập test\n",
        "test_user_ids = test_df['User-ID'].unique()\n",
        "rmse_values = []\n",
        "actual_ratings_list = []\n",
        "predicted_ratings_list = []\n",
        "\n",
        "for user_id in test_user_ids:\n",
        "    if user_id in train_user_ids:\n",
        "        # Tính toán dự đoán \n",
        "        recommendations, predicted_ratings_values = generate_user_based_recommendations(str(user_id), train_df, similarity_matrix, k, top_n)\n",
        "        \n",
        "        # Dự đoán thực tế trong tập test\n",
        "        actual_ratings = test_df[test_df['User-ID'] == user_id][['ISBN', 'Book-Rating']].values\n",
        "        \n",
        "        # Lấy danh sách mã sách trong tập test\n",
        "        item_ids = actual_ratings[:, 0]\n",
        "        \n",
        "        # Lấy dự đoán đối với mỗi mã sách trong tập test sau khi tính toán\n",
        "        predicted_ratings = [predicted_ratings_values.get(item_id, 0) for item_id in item_ids]\n",
        "        \n",
        "        # Bỏ qua missing value bằng cách thay bằng số 0\n",
        "        actual_ratings = np.nan_to_num(actual_ratings[:, 1])\n",
        "        predicted_ratings = np.nan_to_num(predicted_ratings)\n",
        "        \n",
        "        # Tính RMSE cho mỗi user\n",
        "        rmse = np.sqrt(mean_squared_error(actual_ratings, predicted_ratings))\n",
        "        rmse_values.append(rmse)\n",
        "\n",
        "        # Lưu lại đánh giá của tập test và tập dự đoán\n",
        "        actual_ratings_list.extend(actual_ratings)\n",
        "        predicted_ratings_list.extend(predicted_ratings)\n",
        "\n",
        "# Tính RMSE trung bình\n",
        "average_rmse = np.mean(rmse_values)\n"
      ]
    },
    {
      "cell_type": "code",
      "execution_count": 225,
      "metadata": {},
      "outputs": [
        {
          "name": "stdout",
          "output_type": "stream",
          "text": [
            "2.5458521284082236\n"
          ]
        }
      ],
      "source": [
        "print(average_rmse)"
      ]
    },
    {
      "attachments": {},
      "cell_type": "markdown",
      "metadata": {},
      "source": [
        "Độ lệch trung bình cho dự đoán là 2.54\n"
      ]
    },
    {
      "cell_type": "code",
      "execution_count": 226,
      "metadata": {},
      "outputs": [
        {
          "data": {
            "image/png": "[encoded data removed]",
            "text/plain": [
              "<Figure size 640x480 with 1 Axes>"
            ]
          },
          "metadata": {},
          "output_type": "display_data"
        }
      ],
      "source": [
        "import matplotlib.pyplot as plt\n",
        "\n",
        "# Create a list of indices for x-axis\n",
        "indices = range(len(actual_ratings_list))\n",
        "\n",
        "# Plot the actual ratings\n",
        "plt.plot(indices, actual_ratings_list, 'bo', label='Actual Ratings')\n",
        "\n",
        "# Plot the predicted ratings\n",
        "plt.plot(indices, predicted_ratings_list, 'ro', label='Predicted Ratings')\n",
        "\n",
        "# Set the labels and title\n",
        "plt.xlabel('Rating Index')\n",
        "plt.ylabel('Rating')\n",
        "plt.title('Actual Ratings vs. Predicted Ratings')\n",
        "\n",
        "# Add a legend\n",
        "plt.legend()\n",
        "\n",
        "# Show the plot\n",
        "plt.show()"
      ]
    },
    {
      "cell_type": "code",
      "execution_count": null,
      "metadata": {},
      "outputs": [],
      "source": []
    }
  ],
  "metadata": {
    "colab": {
      "provenance": []
    },
    "kernelspec": {
      "display_name": "Python 3",
      "language": "python",
      "name": "python3"
    },
    "language_info": {
      "codemirror_mode": {
        "name": "ipython",
        "version": 3
      },
      "file_extension": ".py",
      "mimetype": "text/x-python",
      "name": "python",
      "nbconvert_exporter": "python",
      "pygments_lexer": "ipython3",
      "version": "3.11.0"
    },
    "vscode": {
      "interpreter": {
        "hash": "c261aea317cc0286b3b3261fbba9abdec21eaa57589985bb7a274bf54d6cc0a7"
      }
    }
  },
  "nbformat": 4,
  "nbformat_minor": 0
}
